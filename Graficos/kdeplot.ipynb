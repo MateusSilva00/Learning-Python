{
 "cells": [
  {
   "cell_type": "code",
   "execution_count": 2,
   "id": "b3516f6b",
   "metadata": {},
   "outputs": [
    {
     "name": "stderr",
     "output_type": "stream",
     "text": [
      "C:\\Users\\mateu\\anaconda3\\lib\\site-packages\\seaborn\\_decorators.py:36: FutureWarning: Pass the following variable as a keyword arg: y. From version 0.12, the only valid positional argument will be `data`, and passing other arguments without an explicit keyword will result in an error or misinterpretation.\n",
      "  warnings.warn(\n"
     ]
    },
    {
     "data": {
      "text/plain": [
       "<AxesSubplot:>"
      ]
     },
     "execution_count": 2,
     "metadata": {},
     "output_type": "execute_result"
    },
    {
     "data": {
      "image/png": "[encoded data removed]",
      "text/plain": [
       "<Figure size 432x288 with 2 Axes>"
      ]
     },
     "metadata": {
      "needs_background": "light"
     },
     "output_type": "display_data"
    }
   ],
   "source": [
    "import matplotlib.pyplot as fig\n",
    "import seaborn as sns\n",
    "import random\n",
    "\n",
    "aleat1 = []\n",
    "aleat2 = []\n",
    "for i in range(100):\n",
    "    x = random.gauss(0,10)\n",
    "    y = random.gauss(0,10)\n",
    "    aleat1.append(x)\n",
    "    aleat2.append(y)\n",
    "\n",
    "fig.subplot(211)\n",
    "fig.plot(aleat1, aleat2, 'ok')\n",
    "fig.subplot(212)\n",
    "cmap = sns.cubehelix_palette(8, start=0, light=1, as_cmap=True)\n",
    "sns.kdeplot(aleat1, aleat2, cmap=cmap, shade=True)"
   ]
  },
  {
   "cell_type": "code",
   "execution_count": null,
   "id": "0556e868",
   "metadata": {},
   "outputs": [],
   "source": []
  }
 ],
 "metadata": {
  "kernelspec": {
   "display_name": "Python 3",
   "language": "python",
   "name": "python3"
  },
  "language_info": {
   "codemirror_mode": {
    "name": "ipython",
    "version": 3
   },
   "file_extension": ".py",
   "mimetype": "text/x-python",
   "name": "python",
   "nbconvert_exporter": "python",
   "pygments_lexer": "ipython3",
   "version": "3.8.8"
  }
 },
 "nbformat": 4,
 "nbformat_minor": 5
}
