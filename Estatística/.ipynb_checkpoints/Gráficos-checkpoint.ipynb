{
 "cells": [
  {
   "cell_type": "code",
   "execution_count": 11,
   "id": "7e6bf493",
   "metadata": {},
   "outputs": [],
   "source": [
    "import matplotlib.pyplot as fig\n",
    "import numpy as ny\n",
    "import random"
   ]
  },
  {
   "cell_type": "code",
   "execution_count": 6,
   "id": "222d1089",
   "metadata": {},
   "outputs": [],
   "source": [
    "x = ny.arange(1, 20)\n",
    "y = x**2"
   ]
  },
  {
   "cell_type": "code",
   "execution_count": 7,
   "id": "b2d5fa54",
   "metadata": {},
   "outputs": [
    {
     "data": {
      "text/plain": [
       "Text(0, 0.5, 'Mortes de Covid')"
      ]
     },
     "execution_count": 7,
     "metadata": {},
     "output_type": "execute_result"
    },
    {
     "data": {
      "image/png": "[encoded data removed]",
      "text/plain": [
       "<Figure size 432x288 with 1 Axes>"
      ]
     },
     "metadata": {
      "needs_background": "light"
     },
     "output_type": "display_data"
    }
   ],
   "source": [
    "fig.plot(x, y)\n",
    "fig.title(\"Função Afim\")\n",
    "fig.xlabel(\"Casos de Covid\")\n",
    "fig.ylabel(\"Mortes de Covid\")"
   ]
  },
  {
   "cell_type": "code",
   "execution_count": 9,
   "id": "8eab13ba",
   "metadata": {},
   "outputs": [],
   "source": [
    "fig.show()"
   ]
  },
  {
   "cell_type": "markdown",
   "id": "982c7514",
   "metadata": {},
   "source": [
    "Vinte opções da Petrobras"
   ]
  },
  {
   "cell_type": "code",
   "execution_count": 18,
   "id": "64c5f6ab",
   "metadata": {},
   "outputs": [
    {
     "name": "stdout",
     "output_type": "stream",
     "text": [
      "1.21 1.49 1.95 1.62 1.80 1.01 1.79 1.73 1.20 1.43 1.24 1.67 1.86 1.60 1.37 1.69 1.17 1.27 1.19 1.62 "
     ]
    }
   ],
   "source": [
    "preco = []\n",
    "for i in range(20):\n",
    "    preco = random.uniform(1,2)\n",
    "    print(\"{:.2f}\".format(preco), end = \" \")"
   ]
  },
  {
   "cell_type": "code",
   "execution_count": 19,
   "id": "47c320ba",
   "metadata": {},
   "outputs": [
    {
     "name": "stdout",
     "output_type": "stream",
     "text": [
      "1.6156223699958256\n"
     ]
    }
   ],
   "source": [
    "vetor[] = ny.array(preco)\n",
    "print(vetor)"
   ]
  },
  {
   "cell_type": "code",
   "execution_count": null,
   "id": "97e4e22d",
   "metadata": {},
   "outputs": [],
   "source": []
  }
 ],
 "metadata": {
  "kernelspec": {
   "display_name": "Python 3",
   "language": "python",
   "name": "python3"
  },
  "language_info": {
   "codemirror_mode": {
    "name": "ipython",
    "version": 3
   },
   "file_extension": ".py",
   "mimetype": "text/x-python",
   "name": "python",
   "nbconvert_exporter": "python",
   "pygments_lexer": "ipython3",
   "version": "3.8.8"
  }
 },
 "nbformat": 4,
 "nbformat_minor": 5
}
