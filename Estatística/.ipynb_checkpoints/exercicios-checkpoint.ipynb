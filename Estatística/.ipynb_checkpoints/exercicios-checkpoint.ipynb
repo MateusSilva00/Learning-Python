{
 "cells": [
  {
   "cell_type": "code",
   "execution_count": 1,
   "id": "32f5e13a",
   "metadata": {},
   "outputs": [
    {
     "name": "stdout",
     "output_type": "stream",
     "text": [
      "60.0\n",
      "1.399558248166381\n",
      "-0.5484006168695851\n",
      "6.5\n",
      "0.8063421144213803\n",
      "177.6169164905552\n"
     ]
    }
   ],
   "source": [
    "import math as m\n",
    "print(m.pow(4,3) - m.pow(2,2))\n",
    "print(m.sin(2) -m.cos(4.2))\n",
    "print(m.cos(m.sin(3.7) - m.tan(1.3)))\n",
    "print(26 / 4)\n",
    "print(m.radians(46.2))\n",
    "print(m.degrees(3.1))"
   ]
  },
  {
   "cell_type": "code",
   "execution_count": 14,
   "id": "a11aef11",
   "metadata": {},
   "outputs": [
    {
     "name": "stdout",
     "output_type": "stream",
     "text": [
      "18.293777453959613 102.06004502039733 1.5983360204481227\n"
     ]
    }
   ],
   "source": [
    "x, y = 3, 6\n",
    "w = m.exp(3) - m.log(y)\n",
    "z = (x*(m.pow(y,2))) + (y * m.cos(x))\n",
    "s = m.sqrt(x/y + m.log(x + y) + m.tan(x))\n",
    "print(w, z, s)"
   ]
  },
  {
   "cell_type": "code",
   "execution_count": 35,
   "id": "54995ac1",
   "metadata": {},
   "outputs": [
    {
     "name": "stdout",
     "output_type": "stream",
     "text": [
      "[4, 1]\n",
      "[2, 1, 1, 2, 3]\n",
      "[3, 4, 1, 2, 1, 1, 2, 3, 4, 4, 1, 1, 5, 2]\n",
      "[3, 2, 2, 4, 5]\n",
      "2\n",
      "[1, 5, 2]\n",
      "[3, 3, 4, 1]\n",
      "15\n",
      "5\n"
     ]
    }
   ],
   "source": [
    "num = [3,3,4,1,2,1,1,2,3,4,4,1,1,5,2]\n",
    "print(num[2:4])\n",
    "print(num[4:9])\n",
    "print(num[1:])\n",
    "print(num[1::3])\n",
    "print(num[-1])\n",
    "print(num[-3:]) #Últimos 3 elementos da lista\n",
    "print(num[0:4])\n",
    "print(len(num)) #Tamanho da lista\n",
    "print(num.count(1)) #Quantas vezes aparece um número 1"
   ]
  },
  {
   "cell_type": "code",
   "execution_count": 4,
   "id": "eb13324b",
   "metadata": {},
   "outputs": [
    {
     "name": "stdout",
     "output_type": "stream",
     "text": [
      "['dow', 'ibov', 'ftse']\n",
      "['dow', 'ibov', 'ftse', 'dax', 'nasdaq', 'Hong Kong', 'Merval']\n",
      "['dow', 'ibov', 's&p500', 'ftse', 'dax', 'nasdaq', 'Hong Kong', 'Merval']\n"
     ]
    }
   ],
   "source": [
    "bolsas = [\"dow\", \"ibov\", \"ftse\", \"dax\", \"nasdaq\", \"cac\"]\n",
    "bs = [\"Hong Kong\", \"Merval\"]\n",
    "print(bolsas[:3])\n",
    "bolsas.extend(bs)\n",
    "bolsas.remove(\"cac\")\n",
    "print(bolsas)\n",
    "bolsas.insert(2, \"s&p500\")\n",
    "print(bolsas)"
   ]
  },
  {
   "cell_type": "code",
   "execution_count": 8,
   "id": "76715130",
   "metadata": {},
   "outputs": [],
   "source": [
    "acoes = [\"petr4\", \"vale3\", \"ggbr4\"]\n",
    "preco = [28.4, 31.3, 15.76]\n",
    "f = open(\"bov.txt\", 'w')\n",
    "f.write(\"%s %s %s %6.2f %6.2f %6.2f\\n\" %(acoes[0], acoes[1], acoes[2], preco[0], preco[1], preco[2]))\n",
    "f.close()"
   ]
  },
  {
   "cell_type": "code",
   "execution_count": 9,
   "id": "eaf8e399",
   "metadata": {},
   "outputs": [
    {
     "name": "stdout",
     "output_type": "stream",
     "text": [
      "petr4 vale3 ggbr4  28.40  31.30  15.76\n",
      "\n"
     ]
    }
   ],
   "source": [
    "f=open(\"bov.txt\", 'r')\n",
    "z = f.read()\n",
    "print(z)\n",
    "f.close()"
   ]
  },
  {
   "cell_type": "code",
   "execution_count": 19,
   "id": "75e19568",
   "metadata": {},
   "outputs": [
    {
     "name": "stdout",
     "output_type": "stream",
     "text": [
      "54 7 -2\n",
      "1.8620689655172413 2 0\n",
      "2.26343824951325 2.22407110297891 8 3\n",
      "[-2, -1, -1, 0, 0, 0, 0, 0, 0, 0, 0, 1, 1, 2, 2, 2, 2, 2, 2, 3, 3, 3, 3, 4, 5, 5, 5, 6, 7]\n",
      "[7, 6, 5, 5, 5, 4, 3, 3, 3, 3, 2, 2, 2, 2, 2, 2, 1, 1, 0, 0, 0, 0, 0, 0, 0, 0, -1, -1, -2]\n"
     ]
    }
   ],
   "source": [
    "import statistics as st\n",
    "lista = [2,2,3,3,3,-1,-1,-2,0,0,0,2,3,4,1,2,2,0,0,0,2,1,5,5,7,6,5,0,0]\n",
    "print(sum(lista), max(lista), min(lista))\n",
    "print(st.mean(lista), st.median(lista), st.mode(lista))\n",
    "print(st.stdev(lista), st.pstdev(lista), lista.count(0), lista.count(5))\n",
    "lista.sort()\n",
    "print(lista)\n",
    "lista.reverse()\n",
    "print(lista)"
   ]
  },
  {
   "cell_type": "code",
   "execution_count": 74,
   "id": "1f05a85b",
   "metadata": {},
   "outputs": [
    {
     "ename": "ValueError",
     "evalue": "operands could not be broadcast together with shapes (26,1) (27,1) ",
     "output_type": "error",
     "traceback": [
      "\u001b[1;31m---------------------------------------------------------------------------\u001b[0m",
      "\u001b[1;31mValueError\u001b[0m                                Traceback (most recent call last)",
      "\u001b[1;32m<ipython-input-74-c6ec055f249a>\u001b[0m in \u001b[0;36m<module>\u001b[1;34m\u001b[0m\n\u001b[0;32m     11\u001b[0m \u001b[0mdias\u001b[0m \u001b[1;33m=\u001b[0m \u001b[0mny\u001b[0m\u001b[1;33m.\u001b[0m\u001b[0marange\u001b[0m\u001b[1;33m(\u001b[0m\u001b[1;36m0\u001b[0m\u001b[1;33m,\u001b[0m \u001b[0mlen\u001b[0m\u001b[1;33m(\u001b[0m\u001b[0mvale\u001b[0m\u001b[1;33m)\u001b[0m\u001b[1;33m)\u001b[0m\u001b[1;33m\u001b[0m\u001b[1;33m\u001b[0m\u001b[0m\n\u001b[0;32m     12\u001b[0m \u001b[1;33m\u001b[0m\u001b[0m\n\u001b[1;32m---> 13\u001b[1;33m \u001b[0mretVale\u001b[0m \u001b[1;33m=\u001b[0m \u001b[1;33m(\u001b[0m\u001b[0mvale\u001b[0m\u001b[1;33m[\u001b[0m\u001b[1;36m1\u001b[0m\u001b[1;33m:\u001b[0m\u001b[1;36m28\u001b[0m\u001b[1;33m]\u001b[0m \u001b[1;33m-\u001b[0m \u001b[0mvale\u001b[0m\u001b[1;33m[\u001b[0m\u001b[1;36m0\u001b[0m\u001b[1;33m:\u001b[0m\u001b[1;36m27\u001b[0m\u001b[1;33m]\u001b[0m \u001b[1;33m/\u001b[0m \u001b[0mvale\u001b[0m\u001b[1;33m[\u001b[0m\u001b[1;36m0\u001b[0m\u001b[1;33m:\u001b[0m\u001b[1;36m27\u001b[0m\u001b[1;33m]\u001b[0m\u001b[1;33m)\u001b[0m\u001b[1;33m\u001b[0m\u001b[1;33m\u001b[0m\u001b[0m\n\u001b[0m\u001b[0;32m     14\u001b[0m \u001b[0mretGerdau\u001b[0m \u001b[1;33m=\u001b[0m \u001b[1;33m(\u001b[0m\u001b[0mgerdau\u001b[0m\u001b[1;33m[\u001b[0m\u001b[1;36m1\u001b[0m\u001b[1;33m:\u001b[0m\u001b[1;36m27\u001b[0m\u001b[1;33m]\u001b[0m \u001b[1;33m-\u001b[0m \u001b[0mgerdau\u001b[0m\u001b[1;33m[\u001b[0m\u001b[1;36m0\u001b[0m\u001b[1;33m:\u001b[0m\u001b[1;36m26\u001b[0m\u001b[1;33m]\u001b[0m \u001b[1;33m/\u001b[0m \u001b[0mgerdau\u001b[0m\u001b[1;33m[\u001b[0m\u001b[1;36m0\u001b[0m\u001b[1;33m:\u001b[0m\u001b[1;36m26\u001b[0m\u001b[1;33m]\u001b[0m\u001b[1;33m)\u001b[0m\u001b[1;33m\u001b[0m\u001b[1;33m\u001b[0m\u001b[0m\n\u001b[0;32m     15\u001b[0m \u001b[1;33m\u001b[0m\u001b[0m\n",
      "\u001b[1;31mValueError\u001b[0m: operands could not be broadcast together with shapes (26,1) (27,1) "
     ]
    }
   ],
   "source": [
    "import numpy as ny\n",
    "import pandas as pd\n",
    "import matplotlib.pyplot as fig\n",
    "\n",
    "vale = pd.read_excel(\"Plan1.xlsx\", usecols=\"A\")\n",
    "gerdau = pd.read_excel(\"Plan1.xlsx\", usecols=\"B\")\n",
    "\n",
    "vale = ny.array(vale)\n",
    "gerdau = ny.array(gerdau)\n",
    "\n",
    "dias = ny.arange(0, len(vale))\n",
    "\n",
    "retVale = (vale[1:27] - vale[0:26] / vale[0:26])\n",
    "retGerdau = (gerdau[1:27] - gerdau[0:26] / gerdau[0:26])\n",
    "                           \n",
    "diasRet = ny.arange(0,len(retVale))\n",
    "\n",
    "fig.subplot(221); fig.plot(dias, vale); fig.subplot(222); fig.plot(dias, gerdau)\n",
    "fig.subplot(223); fig.plot(diasRet, retVale); fig.subplot(224); fig.plot(diasRet, retGerdau)"
   ]
  },
  {
   "cell_type": "code",
   "execution_count": null,
   "id": "451fb7ba",
   "metadata": {},
   "outputs": [],
   "source": []
  },
  {
   "cell_type": "code",
   "execution_count": null,
   "id": "a0343282",
   "metadata": {},
   "outputs": [],
   "source": []
  }
 ],
 "metadata": {
  "kernelspec": {
   "display_name": "Python 3",
   "language": "python",
   "name": "python3"
  },
  "language_info": {
   "codemirror_mode": {
    "name": "ipython",
    "version": 3
   },
   "file_extension": ".py",
   "mimetype": "text/x-python",
   "name": "python",
   "nbconvert_exporter": "python",
   "pygments_lexer": "ipython3",
   "version": "3.8.8"
  }
 },
 "nbformat": 4,
 "nbformat_minor": 5
}
