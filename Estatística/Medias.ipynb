{
 "cells": [
  {
   "cell_type": "code",
   "execution_count": 15,
   "id": "288600d7",
   "metadata": {},
   "outputs": [
    {
     "name": "stdout",
     "output_type": "stream",
     "text": [
      "[7.54, 9.88, 10.42, 11, 18.31, 22.3, 30, 34.76, 35, 41.36, 61.5, 113]\n"
     ]
    }
   ],
   "source": [
    "import statistics as st\n",
    "preco = [10.42, 35, 11, 18.31, 7.54, 30, 113, 61.50, 22.30, 34.76, 9.88, 41.36]\n",
    "preco.sort()\n",
    "print(preco)"
   ]
  },
  {
   "cell_type": "markdown",
   "id": "07e2146f",
   "metadata": {},
   "source": [
    "Média, Mediana, Moda, Desvio-Padrão Amostral e Desvio-Padrão Populacional"
   ]
  },
  {
   "cell_type": "code",
   "execution_count": 9,
   "id": "1364873a",
   "metadata": {},
   "outputs": [
    {
     "data": {
      "text/plain": [
       "32.9225"
      ]
     },
     "execution_count": 9,
     "metadata": {},
     "output_type": "execute_result"
    }
   ],
   "source": [
    "st.mean(preco)"
   ]
  },
  {
   "cell_type": "code",
   "execution_count": 16,
   "id": "2c48f403",
   "metadata": {},
   "outputs": [
    {
     "data": {
      "text/plain": [
       "26.15"
      ]
     },
     "execution_count": 16,
     "metadata": {},
     "output_type": "execute_result"
    }
   ],
   "source": [
    "st.median(preco)"
   ]
  },
  {
   "cell_type": "code",
   "execution_count": 17,
   "id": "91dccc25",
   "metadata": {},
   "outputs": [
    {
     "data": {
      "text/plain": [
       "7.54"
      ]
     },
     "execution_count": 17,
     "metadata": {},
     "output_type": "execute_result"
    }
   ],
   "source": [
    "st.mode(preco)"
   ]
  },
  {
   "cell_type": "code",
   "execution_count": 18,
   "id": "4e2dde6a",
   "metadata": {},
   "outputs": [
    {
     "data": {
      "text/plain": [
       "29.85579527267087"
      ]
     },
     "execution_count": 18,
     "metadata": {},
     "output_type": "execute_result"
    }
   ],
   "source": [
    "st.stdev(preco)"
   ]
  },
  {
   "cell_type": "code",
   "execution_count": 19,
   "id": "e2f55326",
   "metadata": {},
   "outputs": [
    {
     "data": {
      "text/plain": [
       "28.584747717678624"
      ]
     },
     "execution_count": 19,
     "metadata": {},
     "output_type": "execute_result"
    }
   ],
   "source": [
    "st.pstdev(preco)"
   ]
  },
  {
   "cell_type": "code",
   "execution_count": null,
   "id": "205ac73a",
   "metadata": {},
   "outputs": [],
   "source": []
  }
 ],
 "metadata": {
  "kernelspec": {
   "display_name": "Python 3",
   "language": "python",
   "name": "python3"
  },
  "language_info": {
   "codemirror_mode": {
    "name": "ipython",
    "version": 3
   },
   "file_extension": ".py",
   "mimetype": "text/x-python",
   "name": "python",
   "nbconvert_exporter": "python",
   "pygments_lexer": "ipython3",
   "version": "3.8.8"
  }
 },
 "nbformat": 4,
 "nbformat_minor": 5
}
