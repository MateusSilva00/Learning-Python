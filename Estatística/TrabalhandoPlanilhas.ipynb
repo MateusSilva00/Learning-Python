{
 "cells": [
  {
   "cell_type": "code",
   "execution_count": 58,
   "id": "2024eaf4",
   "metadata": {},
   "outputs": [
    {
     "name": "stdout",
     "output_type": "stream",
     "text": [
      "[1.0, 2.0, 3.0, 4.0, 5.0, 6.0]\n",
      "[10.0, -4.0, 2.0, 3.0, 11.0, 12.0]\n"
     ]
    }
   ],
   "source": [
    "import xlrd\n",
    "wb = xlrd.open_workbook(\"EstatDad.xls\")\n",
    "y = wb.sheet_by_name(\"Plan1\")\n",
    "\n",
    "lin = y.nrows\n",
    "col = y.ncols\n",
    "\n",
    "dados = []\n",
    "\n",
    "for i in range(col):\n",
    "    coluna = y.col_values(i)\n",
    "    dados.append(coluna)\n",
    "    print(coluna)"
   ]
  },
  {
   "cell_type": "code",
   "execution_count": 55,
   "id": "c3df0bb4",
   "metadata": {},
   "outputs": [
    {
     "name": "stdout",
     "output_type": "stream",
     "text": [
      "[[1.0, 2.0, 3.0, 4.0, 5.0, 6.0], [10.0, -4.0, 2.0, 3.0, 11.0, 12.0]]\n",
      "[[1.0, 2.0, 3.0, 4.0, 5.0, 6.0]]\n",
      "[10.0, -4.0, 2.0, 3.0, 11.0, 12.0]\n",
      "[1.0, 2.0, 3.0, 4.0, 5.0, 6.0]\n",
      "[1.0, 2.0, 3.0, 4.0, 5.0, 6.0]\n",
      "[10.0, -4.0, 2.0, 3.0, 11.0, 12.0]\n"
     ]
    }
   ],
   "source": [
    "print(dados[:][:])\n",
    "print(dados[0:1][:])\n",
    "print(dados[1][:])\n",
    "print(dados[0][:])\n",
    "print(dados[:][0])\n",
    "print(dados[:][1])"
   ]
  },
  {
   "cell_type": "code",
   "execution_count": 57,
   "id": "7ea8a74c",
   "metadata": {},
   "outputs": [
    {
     "name": "stdout",
     "output_type": "stream",
     "text": [
      "Soma:  34.0 \n",
      "Minimo:  -4.0 \n",
      "Maximo:  12.0\n"
     ]
    }
   ],
   "source": [
    "soma = sum(dados[1][:])\n",
    "minimo = min(dados[1][:])\n",
    "maximo = max(dados[1][:])\n",
    "print(\"Soma: \", soma, \"\\nMinimo: \", minimo, \"\\nMaximo: \", maximo)"
   ]
  },
  {
   "cell_type": "code",
   "execution_count": 61,
   "id": "a247507f",
   "metadata": {},
   "outputs": [
    {
     "name": "stdout",
     "output_type": "stream",
     "text": [
      "Media Mediana DESV.P  DESV.A\n",
      " 9.35   9.00  1.74  1.79\n"
     ]
    }
   ],
   "source": [
    "import statistics as st\n",
    "import matplotlib.pyplot as fig\n",
    "\n",
    "p = xlrd.open_workbook(\"EstatDad.xls\")\n",
    "plan = p.sheet_by_name(\"Plan2\")\n",
    "\n",
    "lin = plan.nrows\n",
    "col = plan.ncols\n",
    "\n",
    "dados = []\n",
    "for i in range(col):\n",
    "    coluna = plan.col_values(i)\n",
    "    dados.append(coluna)\n",
    "\n",
    "media = st.mean(dados[1][:])\n",
    "mediana = st.median(dados[1][:])\n",
    "desvioP = st.pstdev(dados[1][:]) # Desvio Padrão Populacional\n",
    "desvioA = st.stdev(dados[1][:]) # Desvio Padrão Amostral\n",
    "\n",
    "print(\"Media Mediana DESV.P  DESV.A\")\n",
    "print('%5.2f %6.2f %5.2f %5.2f' % (media, mediana, desvioP, desvioA))"
   ]
  },
  {
   "cell_type": "code",
   "execution_count": 65,
   "id": "7903ca3c",
   "metadata": {},
   "outputs": [
    {
     "data": {
      "text/plain": [
       "Text(0, 0.5, 'Frequência')"
      ]
     },
     "execution_count": 65,
     "metadata": {},
     "output_type": "execute_result"
    },
    {
     "data": {
      "image/png": "[encoded data removed]",
      "text/plain": [
       "<Figure size 432x288 with 1 Axes>"
      ]
     },
     "metadata": {
      "needs_background": "light"
     },
     "output_type": "display_data"
    }
   ],
   "source": [
    "fig.figure()\n",
    "fig.hist(dados[1][:], bins=3, color=\"gray\") # Histograma com 3 classes\n",
    "fig.xlabel(\"Classes\")\n",
    "fig.ylabel(\"Frequência\")"
   ]
  },
  {
   "cell_type": "code",
   "execution_count": 66,
   "id": "4e352c8a",
   "metadata": {},
   "outputs": [
    {
     "data": {
      "text/plain": [
       "Text(0, 0.5, 'Frequência')"
      ]
     },
     "execution_count": 66,
     "metadata": {},
     "output_type": "execute_result"
    },
    {
     "data": {
      "image/png": "[encoded data removed]",
      "text/plain": [
       "<Figure size 432x288 with 1 Axes>"
      ]
     },
     "metadata": {
      "needs_background": "light"
     },
     "output_type": "display_data"
    }
   ],
   "source": [
    "fig.figure()\n",
    "fig.hist(dados[1][:], bins=5, color=\"gray\") # Histograma com 5 classes\n",
    "fig.xlabel(\"Classes\")\n",
    "fig.ylabel(\"Frequência\")"
   ]
  },
  {
   "cell_type": "code",
   "execution_count": 67,
   "id": "5f27d1a1",
   "metadata": {},
   "outputs": [
    {
     "data": {
      "text/plain": [
       "Text(0, 0.5, 'Frequência')"
      ]
     },
     "execution_count": 67,
     "metadata": {},
     "output_type": "execute_result"
    },
    {
     "data": {
      "image/png": "[encoded data removed]",
      "text/plain": [
       "<Figure size 432x288 with 1 Axes>"
      ]
     },
     "metadata": {
      "needs_background": "light"
     },
     "output_type": "display_data"
    }
   ],
   "source": [
    "fig.figure()\n",
    "fig.hist(dados[1][:], bins=7, color=\"purple\")\n",
    "fig.xlabel(\"Classes\")\n",
    "fig.ylabel(\"Frequência\")"
   ]
  },
  {
   "cell_type": "code",
   "execution_count": 68,
   "id": "3a694863",
   "metadata": {},
   "outputs": [
    {
     "data": {
      "text/plain": [
       "{'whiskers': [<matplotlib.lines.Line2D at 0x1889ee337c0>,\n",
       "  <matplotlib.lines.Line2D at 0x1889ee33b20>],\n",
       " 'caps': [<matplotlib.lines.Line2D at 0x1889ee33e80>,\n",
       "  <matplotlib.lines.Line2D at 0x1889ee3c220>],\n",
       " 'boxes': [<matplotlib.lines.Line2D at 0x1889ee33460>],\n",
       " 'medians': [<matplotlib.lines.Line2D at 0x1889ee3c580>],\n",
       " 'fliers': [<matplotlib.lines.Line2D at 0x1889ee3c8e0>],\n",
       " 'means': []}"
      ]
     },
     "execution_count": 68,
     "metadata": {},
     "output_type": "execute_result"
    },
    {
     "data": {
      "image/png": "[encoded data removed]",
      "text/plain": [
       "<Figure size 432x288 with 1 Axes>"
      ]
     },
     "metadata": {
      "needs_background": "light"
     },
     "output_type": "display_data"
    }
   ],
   "source": [
    "fig.figure()\n",
    "fig.boxplot(dados[1][:])"
   ]
  },
  {
   "cell_type": "code",
   "execution_count": null,
   "id": "ad530553",
   "metadata": {},
   "outputs": [],
   "source": []
  }
 ],
 "metadata": {
  "kernelspec": {
   "display_name": "Python 3",
   "language": "python",
   "name": "python3"
  },
  "language_info": {
   "codemirror_mode": {
    "name": "ipython",
    "version": 3
   },
   "file_extension": ".py",
   "mimetype": "text/x-python",
   "name": "python",
   "nbconvert_exporter": "python",
   "pygments_lexer": "ipython3",
   "version": "3.8.8"
  }
 },
 "nbformat": 4,
 "nbformat_minor": 5
}
