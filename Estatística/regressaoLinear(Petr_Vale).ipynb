{
 "cells": [
  {
   "cell_type": "code",
   "execution_count": 2,
   "id": "2f14e36d",
   "metadata": {},
   "outputs": [
    {
     "name": "stdout",
     "output_type": "stream",
     "text": [
      "Beta: 2.543329, Beta0: 13.651328, R_Value: 0.477142, P_Value: 0.000000, stdErr: 0.219852 \n",
      "y = 2.543329x - 13.6513\n"
     ]
    }
   ],
   "source": [
    "import matplotlib.pyplot as fig\n",
    "import xlrd \n",
    "import numpy as ny\n",
    "from scipy import stats as st\n",
    "\n",
    "ex = xlrd.open_workbook(\"ibovespa.xls\")\n",
    "\n",
    "petr = ex.sheet_by_name(\"PETR3\")\n",
    "vale = ex.sheet_by_name(\"VALE3\")\n",
    "\n",
    "linPetr = petr.nrows\n",
    "colPetr = petr.ncols\n",
    "dadosPetr = []\n",
    "\n",
    "linVale = vale.nrows\n",
    "colVale = vale.ncols\n",
    "dadosVale = []\n",
    "\n",
    "for i in range(colPetr):\n",
    "    coluna1 = petr.col_values(i)\n",
    "    dadosPetr.append(coluna1)\n",
    "    \n",
    "    coluna2 = vale.col_values(i)\n",
    "    dadosVale.append(coluna2)\n",
    "    \n",
    "dadosPetr = ny.array(dadosPetr)\n",
    "dadosVale = ny.array(dadosVale)\n",
    "\n",
    "beta, beta0, rValue, pValue, stdErr = st.linregress(dadosPetr[0], dadosVale[0])\n",
    "print(\"Beta: {:.6f}, Beta0: {:.6f}, R_Value: {:.6f}, P_Value: {:.6f}, stdErr: {:.6f} \".format(beta, beta0, rValue, pValue, stdErr))\n",
    "print(\"y = {:.6f}x - {:.6}\".format(beta, beta0))\n",
    "\n",
    "yLin = beta*dadosPetr[0] + beta0\n",
    "fig.plot(dadosPetr[0], yLin, '-k', dadosPetr[0], dadosVale[0], 'ok')\n",
    "fig.xlabel(\"PETR4\")\n",
    "fig.ylabel('VAL3')"
   ]
  },
  {
   "cell_type": "code",
   "execution_count": null,
   "id": "09bcb137",
   "metadata": {},
   "outputs": [],
   "source": []
  }
 ],
 "metadata": {
  "kernelspec": {
   "display_name": "Python 3",
   "language": "python",
   "name": "python3"
  },
  "language_info": {
   "codemirror_mode": {
    "name": "ipython",
    "version": 3
   },
   "file_extension": ".py",
   "mimetype": "text/x-python",
   "name": "python",
   "nbconvert_exporter": "python",
   "pygments_lexer": "ipython3",
   "version": "3.8.8"
  }
 },
 "nbformat": 4,
 "nbformat_minor": 5
}
