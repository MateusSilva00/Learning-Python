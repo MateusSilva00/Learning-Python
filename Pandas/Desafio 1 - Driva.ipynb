{
 "cells": [
  {
   "cell_type": "markdown",
   "id": "3f362a73",
   "metadata": {},
   "source": [
    "Leia o arquivo \"DadosEmpresa.csv\""
   ]
  },
  {
   "cell_type": "code",
   "execution_count": 2,
   "id": "ed9694fe",
   "metadata": {},
   "outputs": [],
   "source": [
    "import pandas as pd\n",
    "dadosEmpresa_df = pd.read_csv(\"DadosEmpresa.csv\")"
   ]
  },
  {
   "cell_type": "markdown",
   "id": "82828e20",
   "metadata": {},
   "source": [
    "Print no terminal as colunas desse arquivo"
   ]
  },
  {
   "cell_type": "code",
   "execution_count": 9,
   "id": "e8674e78",
   "metadata": {},
   "outputs": [
    {
     "name": "stdout",
     "output_type": "stream",
     "text": [
      "Colunas = cnpj raiz_cnpj matriz_filial razao_social opcao_pelo_simples capital_social "
     ]
    }
   ],
   "source": [
    "print(\"Colunas = \", end = \"\")\n",
    "for col_name in dadosEmpresa_df.columns:\n",
    "    print(col_name, end=\" \")"
   ]
  },
  {
   "cell_type": "markdown",
   "id": "16e21b94",
   "metadata": {},
   "source": [
    "Print no terminal as primeiras linhas desse arquivo"
   ]
  },
  {
   "cell_type": "code",
   "execution_count": 53,
   "id": "d8d82794",
   "metadata": {},
   "outputs": [
    {
     "data": {
      "text/html": [
       "<div>\n",
       "<style scoped>\n",
       "    .dataframe tbody tr th:only-of-type {\n",
       "        vertical-align: middle;\n",
       "    }\n",
       "\n",
       "    .dataframe tbody tr th {\n",
       "        vertical-align: top;\n",
       "    }\n",
       "\n",
       "    .dataframe thead th {\n",
       "        text-align: right;\n",
       "    }\n",
       "</style>\n",
       "<table border=\"1\" class=\"dataframe\">\n",
       "  <thead>\n",
       "    <tr style=\"text-align: right;\">\n",
       "      <th></th>\n",
       "      <th>cnpj</th>\n",
       "      <th>raiz_cnpj</th>\n",
       "      <th>matriz_filial</th>\n",
       "      <th>razao_social</th>\n",
       "      <th>opcao_pelo_simples</th>\n",
       "      <th>capital_social</th>\n",
       "      <th>bairro</th>\n",
       "      <th>municipio</th>\n",
       "    </tr>\n",
       "  </thead>\n",
       "  <tbody>\n",
       "    <tr>\n",
       "      <th>0</th>\n",
       "      <td>126195000110</td>\n",
       "      <td>126195</td>\n",
       "      <td>MATRIZ</td>\n",
       "      <td>TRAMA SOFTWARE LTDA</td>\n",
       "      <td>NAO</td>\n",
       "      <td>0</td>\n",
       "      <td>BIGORRILHO</td>\n",
       "      <td>CURITIBA</td>\n",
       "    </tr>\n",
       "    <tr>\n",
       "      <th>1</th>\n",
       "      <td>155991000181</td>\n",
       "      <td>155991</td>\n",
       "      <td>MATRIZ</td>\n",
       "      <td>ELEKTI - APOIO A EDUCACAO E FORNECIMENTO DE BO...</td>\n",
       "      <td>NAO</td>\n",
       "      <td>40000</td>\n",
       "      <td>CENTRO</td>\n",
       "      <td>LAPA</td>\n",
       "    </tr>\n",
       "    <tr>\n",
       "      <th>2</th>\n",
       "      <td>321106000197</td>\n",
       "      <td>321106</td>\n",
       "      <td>MATRIZ</td>\n",
       "      <td>VIRTUAL TECNOLOGIA &amp; SERVICOS LTDA</td>\n",
       "      <td>NAO</td>\n",
       "      <td>5000</td>\n",
       "      <td>PRIMAVERA</td>\n",
       "      <td>NOVO HAMBURGO</td>\n",
       "    </tr>\n",
       "    <tr>\n",
       "      <th>3</th>\n",
       "      <td>358376000172</td>\n",
       "      <td>358376</td>\n",
       "      <td>MATRIZ</td>\n",
       "      <td>SARTOR ASSESSORIA E COMERCIO DE INFORMATICA LTDA</td>\n",
       "      <td>SIM</td>\n",
       "      <td>0</td>\n",
       "      <td>SAO PELEGRINO</td>\n",
       "      <td>CAXIAS DO SUL</td>\n",
       "    </tr>\n",
       "    <tr>\n",
       "      <th>4</th>\n",
       "      <td>563375000160</td>\n",
       "      <td>563375</td>\n",
       "      <td>MATRIZ</td>\n",
       "      <td>INDEXX INFORMATICA LTDA</td>\n",
       "      <td>SIM</td>\n",
       "      <td>0</td>\n",
       "      <td>CENTRO</td>\n",
       "      <td>TRES COROAS</td>\n",
       "    </tr>\n",
       "  </tbody>\n",
       "</table>\n",
       "</div>"
      ],
      "text/plain": [
       "           cnpj  raiz_cnpj matriz_filial  \\\n",
       "0  126195000110     126195        MATRIZ   \n",
       "1  155991000181     155991        MATRIZ   \n",
       "2  321106000197     321106        MATRIZ   \n",
       "3  358376000172     358376        MATRIZ   \n",
       "4  563375000160     563375        MATRIZ   \n",
       "\n",
       "                                        razao_social opcao_pelo_simples  \\\n",
       "0                                TRAMA SOFTWARE LTDA                NAO   \n",
       "1  ELEKTI - APOIO A EDUCACAO E FORNECIMENTO DE BO...                NAO   \n",
       "2                 VIRTUAL TECNOLOGIA & SERVICOS LTDA                NAO   \n",
       "3   SARTOR ASSESSORIA E COMERCIO DE INFORMATICA LTDA                SIM   \n",
       "4                            INDEXX INFORMATICA LTDA                SIM   \n",
       "\n",
       "   capital_social         bairro      municipio  \n",
       "0               0     BIGORRILHO       CURITIBA  \n",
       "1           40000         CENTRO           LAPA  \n",
       "2            5000      PRIMAVERA  NOVO HAMBURGO  \n",
       "3               0  SAO PELEGRINO  CAXIAS DO SUL  \n",
       "4               0         CENTRO    TRES COROAS  "
      ]
     },
     "metadata": {},
     "output_type": "display_data"
    }
   ],
   "source": [
    "display(dadosEmpresa_df.head())"
   ]
  },
  {
   "cell_type": "markdown",
   "id": "44d575ab",
   "metadata": {},
   "source": [
    "Print no terminal o total de empresas nesse arquivo que tem a coluna \"opcao_pelo_simples\" com o valor \"SIM\";"
   ]
  },
  {
   "cell_type": "code",
   "execution_count": 57,
   "id": "3fc6f1f3",
   "metadata": {},
   "outputs": [
    {
     "data": {
      "text/plain": [
       "383"
      ]
     },
     "metadata": {},
     "output_type": "display_data"
    }
   ],
   "source": [
    "opcaoSim = dadosEmpresa_df.loc[dadosEmpresa_df[\"opcao_pelo_simples\"] == \"SIM\", \"opcao_pelo_simples\"]\n",
    "display(opcaoSim.count())"
   ]
  },
  {
   "cell_type": "markdown",
   "id": "276bad46",
   "metadata": {},
   "source": [
    "Print no terminal a soma do \"capital_social\" de todas as empresas;"
   ]
  },
  {
   "cell_type": "code",
   "execution_count": 56,
   "id": "5e9dcdb4",
   "metadata": {},
   "outputs": [
    {
     "data": {
      "text/plain": [
       "304313407"
      ]
     },
     "metadata": {},
     "output_type": "display_data"
    }
   ],
   "source": [
    "capitalSocialsum = dadosEmpresa_df['capital_social'].sum()\n",
    "print(capitalSocialsum)"
   ]
  },
  {
   "cell_type": "markdown",
   "id": "3bb9f72d",
   "metadata": {},
   "source": [
    "Print no terminal todas as empresas que tem \"capital_social\" maior que 10.000 e menor que 20.000"
   ]
  },
  {
   "cell_type": "code",
   "execution_count": 44,
   "id": "42cb2c87",
   "metadata": {},
   "outputs": [
    {
     "data": {
      "text/html": [
       "<div>\n",
       "<style scoped>\n",
       "    .dataframe tbody tr th:only-of-type {\n",
       "        vertical-align: middle;\n",
       "    }\n",
       "\n",
       "    .dataframe tbody tr th {\n",
       "        vertical-align: top;\n",
       "    }\n",
       "\n",
       "    .dataframe thead th {\n",
       "        text-align: right;\n",
       "    }\n",
       "</style>\n",
       "<table border=\"1\" class=\"dataframe\">\n",
       "  <thead>\n",
       "    <tr style=\"text-align: right;\">\n",
       "      <th></th>\n",
       "      <th>razao_social</th>\n",
       "      <th>capital_social</th>\n",
       "    </tr>\n",
       "  </thead>\n",
       "  <tbody>\n",
       "    <tr>\n",
       "      <th>10</th>\n",
       "      <td>SOFTNEW SISTEMAS E CONSULTORIA EM INFORMATICA ...</td>\n",
       "      <td>15000</td>\n",
       "    </tr>\n",
       "    <tr>\n",
       "      <th>58</th>\n",
       "      <td>FERAWEB INFORMATICA LTDA</td>\n",
       "      <td>15000</td>\n",
       "    </tr>\n",
       "    <tr>\n",
       "      <th>125</th>\n",
       "      <td>ISOLVE - SOLUCOES EM INFORMATICA LTDA</td>\n",
       "      <td>15000</td>\n",
       "    </tr>\n",
       "    <tr>\n",
       "      <th>131</th>\n",
       "      <td>A. D. TURRI TECNOLOGIA</td>\n",
       "      <td>12000</td>\n",
       "    </tr>\n",
       "    <tr>\n",
       "      <th>190</th>\n",
       "      <td>R.J.D. CONSULTORIA E TECNOLOGIA PARA NEGOCIOS ...</td>\n",
       "      <td>16666</td>\n",
       "    </tr>\n",
       "    <tr>\n",
       "      <th>205</th>\n",
       "      <td>GE DIGITAL DO BRASIL SERVICOS EM INFORMATICA L...</td>\n",
       "      <td>17000</td>\n",
       "    </tr>\n",
       "    <tr>\n",
       "      <th>232</th>\n",
       "      <td>ELITE TRADER ASSESSORIA E CONSULTORIA EMPRESAR...</td>\n",
       "      <td>15000</td>\n",
       "    </tr>\n",
       "    <tr>\n",
       "      <th>281</th>\n",
       "      <td>GOLIVE CONSULTORIA LTDA</td>\n",
       "      <td>13500</td>\n",
       "    </tr>\n",
       "    <tr>\n",
       "      <th>327</th>\n",
       "      <td>SMARTI CONSULTORIA E SERVICOS DE TI LTDA</td>\n",
       "      <td>12000</td>\n",
       "    </tr>\n",
       "    <tr>\n",
       "      <th>354</th>\n",
       "      <td>TRUE WORK CONSULTORIA E DESENVOLVIMENTO DE SIS...</td>\n",
       "      <td>15000</td>\n",
       "    </tr>\n",
       "    <tr>\n",
       "      <th>379</th>\n",
       "      <td>EGROUP CONSULTORIA EM TECNOLOGIA DA INFORMACAO...</td>\n",
       "      <td>15000</td>\n",
       "    </tr>\n",
       "    <tr>\n",
       "      <th>404</th>\n",
       "      <td>GOI &amp; PEREZ CONSULTORIA, SERVICOS, VENDAS E LO...</td>\n",
       "      <td>15000</td>\n",
       "    </tr>\n",
       "    <tr>\n",
       "      <th>407</th>\n",
       "      <td>ALF CONSULTORIA LTDA</td>\n",
       "      <td>15000</td>\n",
       "    </tr>\n",
       "    <tr>\n",
       "      <th>418</th>\n",
       "      <td>CORE SOLUTIONS - AUTOMACAO TECNOLOGICA LTDA</td>\n",
       "      <td>13000</td>\n",
       "    </tr>\n",
       "    <tr>\n",
       "      <th>449</th>\n",
       "      <td>WLAN REDES SEM FIO SERVICOS EM TECNOLOGIA LTDA</td>\n",
       "      <td>15000</td>\n",
       "    </tr>\n",
       "    <tr>\n",
       "      <th>467</th>\n",
       "      <td>CDC TECNOLOGIA LTDA</td>\n",
       "      <td>12000</td>\n",
       "    </tr>\n",
       "    <tr>\n",
       "      <th>477</th>\n",
       "      <td>BEXPO TRANSFORMACAO E INOVACAO LTDA</td>\n",
       "      <td>12000</td>\n",
       "    </tr>\n",
       "    <tr>\n",
       "      <th>501</th>\n",
       "      <td>TOLFO &amp; KRABBE INFORMATICA LTDA</td>\n",
       "      <td>12000</td>\n",
       "    </tr>\n",
       "    <tr>\n",
       "      <th>502</th>\n",
       "      <td>DPC CONSULTORIA LTDA</td>\n",
       "      <td>12000</td>\n",
       "    </tr>\n",
       "    <tr>\n",
       "      <th>535</th>\n",
       "      <td>BIM START SERVICOS TECNOLOGICOS LTDA.</td>\n",
       "      <td>15000</td>\n",
       "    </tr>\n",
       "    <tr>\n",
       "      <th>587</th>\n",
       "      <td>DOMINUS ASSESSORIA E CONSULTORIA EM TI LTDA</td>\n",
       "      <td>12000</td>\n",
       "    </tr>\n",
       "    <tr>\n",
       "      <th>609</th>\n",
       "      <td>SHERPA SOLUCOES EM SISTEMAS DE INFORMACAO LTDA</td>\n",
       "      <td>15000</td>\n",
       "    </tr>\n",
       "    <tr>\n",
       "      <th>616</th>\n",
       "      <td>PLYS SERVICOS DE TECNOLOGIA LTDA</td>\n",
       "      <td>15000</td>\n",
       "    </tr>\n",
       "    <tr>\n",
       "      <th>698</th>\n",
       "      <td>ACTA TECH SERVICOS DE CONSULTORIA EM TECNOLOGI...</td>\n",
       "      <td>12000</td>\n",
       "    </tr>\n",
       "    <tr>\n",
       "      <th>719</th>\n",
       "      <td>C. GERLING</td>\n",
       "      <td>15000</td>\n",
       "    </tr>\n",
       "    <tr>\n",
       "      <th>721</th>\n",
       "      <td>MADATECH SERVICOS DIGITAIS LTDA</td>\n",
       "      <td>15000</td>\n",
       "    </tr>\n",
       "    <tr>\n",
       "      <th>746</th>\n",
       "      <td>GLA. SOLUTIONS LTDA</td>\n",
       "      <td>15000</td>\n",
       "    </tr>\n",
       "    <tr>\n",
       "      <th>760</th>\n",
       "      <td>E.R.B.INFORMATICA LTDA</td>\n",
       "      <td>12000</td>\n",
       "    </tr>\n",
       "  </tbody>\n",
       "</table>\n",
       "</div>"
      ],
      "text/plain": [
       "                                          razao_social  capital_social\n",
       "10   SOFTNEW SISTEMAS E CONSULTORIA EM INFORMATICA ...           15000\n",
       "58                            FERAWEB INFORMATICA LTDA           15000\n",
       "125              ISOLVE - SOLUCOES EM INFORMATICA LTDA           15000\n",
       "131                             A. D. TURRI TECNOLOGIA           12000\n",
       "190  R.J.D. CONSULTORIA E TECNOLOGIA PARA NEGOCIOS ...           16666\n",
       "205  GE DIGITAL DO BRASIL SERVICOS EM INFORMATICA L...           17000\n",
       "232  ELITE TRADER ASSESSORIA E CONSULTORIA EMPRESAR...           15000\n",
       "281                            GOLIVE CONSULTORIA LTDA           13500\n",
       "327           SMARTI CONSULTORIA E SERVICOS DE TI LTDA           12000\n",
       "354  TRUE WORK CONSULTORIA E DESENVOLVIMENTO DE SIS...           15000\n",
       "379  EGROUP CONSULTORIA EM TECNOLOGIA DA INFORMACAO...           15000\n",
       "404  GOI & PEREZ CONSULTORIA, SERVICOS, VENDAS E LO...           15000\n",
       "407                               ALF CONSULTORIA LTDA           15000\n",
       "418        CORE SOLUTIONS - AUTOMACAO TECNOLOGICA LTDA           13000\n",
       "449     WLAN REDES SEM FIO SERVICOS EM TECNOLOGIA LTDA           15000\n",
       "467                                CDC TECNOLOGIA LTDA           12000\n",
       "477                BEXPO TRANSFORMACAO E INOVACAO LTDA           12000\n",
       "501                    TOLFO & KRABBE INFORMATICA LTDA           12000\n",
       "502                               DPC CONSULTORIA LTDA           12000\n",
       "535              BIM START SERVICOS TECNOLOGICOS LTDA.           15000\n",
       "587        DOMINUS ASSESSORIA E CONSULTORIA EM TI LTDA           12000\n",
       "609     SHERPA SOLUCOES EM SISTEMAS DE INFORMACAO LTDA           15000\n",
       "616                   PLYS SERVICOS DE TECNOLOGIA LTDA           15000\n",
       "698  ACTA TECH SERVICOS DE CONSULTORIA EM TECNOLOGI...           12000\n",
       "719                                         C. GERLING           15000\n",
       "721                    MADATECH SERVICOS DIGITAIS LTDA           15000\n",
       "746                                GLA. SOLUTIONS LTDA           15000\n",
       "760                             E.R.B.INFORMATICA LTDA           12000"
      ]
     },
     "metadata": {},
     "output_type": "display_data"
    }
   ],
   "source": [
    "mod_df = dadosEmpresa_df.loc[((dadosEmpresa_df['capital_social'] > 10000) & (dadosEmpresa_df['capital_social'] < 20000)), [\"razao_social\", \"capital_social\"]]\n",
    "display(mod_df)"
   ]
  },
  {
   "cell_type": "markdown",
   "id": "a5aae44f",
   "metadata": {},
   "source": [
    "EXTRA: Leia o arquivo \"DadosEndereco.csv\" "
   ]
  },
  {
   "cell_type": "code",
   "execution_count": 4,
   "id": "28d34479",
   "metadata": {},
   "outputs": [],
   "source": [
    "dadosEndereco_df = pd.read_csv(\"DadosEndereco.csv\")"
   ]
  },
  {
   "cell_type": "markdown",
   "id": "5e6002a8",
   "metadata": {},
   "source": [
    "EXTRA: Faça um merge entre os dois arquivos pela coluna \"cnpj\" e salve um arquivo CSV com todas as empresas que são de \"CURITIBA\";"
   ]
  },
  {
   "cell_type": "code",
   "execution_count": 14,
   "id": "0358fdd1",
   "metadata": {
    "scrolled": true
   },
   "outputs": [],
   "source": [
    "EmpresasCuritiba_df = dadosEmpresa_df.merge(dadosEndereco_df)\n",
    "EmpresasCuritiba_df = EmpresasCuritiba_df.loc[EmpresasCuritiba_df[\"municipio\"] == \"CURITIBA\"]\n",
    "EmpresasCuritiba_df.to_csv(\"EmpresasCuritiba.csv\")"
   ]
  },
  {
   "cell_type": "code",
   "execution_count": null,
   "id": "23bdb032",
   "metadata": {},
   "outputs": [],
   "source": []
  }
 ],
 "metadata": {
  "kernelspec": {
   "display_name": "Python 3 (ipykernel)",
   "language": "python",
   "name": "python3"
  },
  "language_info": {
   "codemirror_mode": {
    "name": "ipython",
    "version": 3
   },
   "file_extension": ".py",
   "mimetype": "text/x-python",
   "name": "python",
   "nbconvert_exporter": "python",
   "pygments_lexer": "ipython3",
   "version": "3.8.8"
  }
 },
 "nbformat": 4,
 "nbformat_minor": 5
}
